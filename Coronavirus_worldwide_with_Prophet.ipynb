{
  "nbformat": 4,
  "nbformat_minor": 0,
  "metadata": {
    "kernelspec": {
      "display_name": "Python 3",
      "language": "python",
      "name": "python3"
    },
    "language_info": {
      "codemirror_mode": {
        "name": "ipython",
        "version": 3
      },
      "file_extension": ".py",
      "mimetype": "text/x-python",
      "name": "python",
      "nbconvert_exporter": "python",
      "pygments_lexer": "ipython3",
      "version": "3.7.6"
    },
    "colab": {
      "name": "Coronavirus worldwide with Prophet.ipynb",
      "provenance": [],
      "include_colab_link": true
    }
  },
  "cells": [
    {
      "cell_type": "markdown",
      "metadata": {
        "id": "view-in-github",
        "colab_type": "text"
      },
      "source": [
        "<a href=\"https://colab.research.google.com/github/scoobiii/COVID-20/blob/master/Coronavirus_worldwide_with_Prophet.ipynb\" target=\"_parent\"><img src=\"https://colab.research.google.com/assets/colab-badge.svg\" alt=\"Open In Colab\"/></a>"
      ]
    },
    {
      "cell_type": "code",
      "metadata": {
        "id": "t0KZXVDV5Iv-",
        "colab_type": "code",
        "colab": {}
      },
      "source": [
        "import pandas as pd\n",
        "import numpy as np\n",
        "\n",
        "from fbprophet import Prophet"
      ],
      "execution_count": 0,
      "outputs": []
    },
    {
      "cell_type": "code",
      "metadata": {
        "id": "NBzfxRYP5IwF",
        "colab_type": "code",
        "colab": {}
      },
      "source": [
        "covid = pd.read_csv('https://raw.githubusercontent.com/sandeco/CanalSandeco/master/covid-19/covid_19_data.csv')"
      ],
      "execution_count": 0,
      "outputs": []
    },
    {
      "cell_type": "code",
      "metadata": {
        "id": "FlxHi3mA5IwI",
        "colab_type": "code",
        "outputId": "67958877-89a7-416f-dbfd-663d64c2b1cf",
        "colab": {
          "base_uri": "https://localhost:8080/",
          "height": 204
        }
      },
      "source": [
        "covid.tail()"
      ],
      "execution_count": 3,
      "outputs": [
        {
          "output_type": "execute_result",
          "data": {
            "text/html": [
              "<div>\n",
              "<style scoped>\n",
              "    .dataframe tbody tr th:only-of-type {\n",
              "        vertical-align: middle;\n",
              "    }\n",
              "\n",
              "    .dataframe tbody tr th {\n",
              "        vertical-align: top;\n",
              "    }\n",
              "\n",
              "    .dataframe thead th {\n",
              "        text-align: right;\n",
              "    }\n",
              "</style>\n",
              "<table border=\"1\" class=\"dataframe\">\n",
              "  <thead>\n",
              "    <tr style=\"text-align: right;\">\n",
              "      <th></th>\n",
              "      <th>SNo</th>\n",
              "      <th>ObservationDate</th>\n",
              "      <th>Province/State</th>\n",
              "      <th>Country/Region</th>\n",
              "      <th>Last Update</th>\n",
              "      <th>Confirmed</th>\n",
              "      <th>Deaths</th>\n",
              "      <th>Recovered</th>\n",
              "    </tr>\n",
              "  </thead>\n",
              "  <tbody>\n",
              "    <tr>\n",
              "      <th>10353</th>\n",
              "      <td>10354</td>\n",
              "      <td>03/30/2020</td>\n",
              "      <td>Wyoming</td>\n",
              "      <td>US</td>\n",
              "      <td>2020-03-30 22:58:55</td>\n",
              "      <td>94.0</td>\n",
              "      <td>0.0</td>\n",
              "      <td>0.0</td>\n",
              "    </tr>\n",
              "    <tr>\n",
              "      <th>10354</th>\n",
              "      <td>10355</td>\n",
              "      <td>03/30/2020</td>\n",
              "      <td>Xinjiang</td>\n",
              "      <td>Mainland China</td>\n",
              "      <td>2020-03-30 22:58:55</td>\n",
              "      <td>76.0</td>\n",
              "      <td>3.0</td>\n",
              "      <td>73.0</td>\n",
              "    </tr>\n",
              "    <tr>\n",
              "      <th>10355</th>\n",
              "      <td>10356</td>\n",
              "      <td>03/30/2020</td>\n",
              "      <td>Yukon</td>\n",
              "      <td>Canada</td>\n",
              "      <td>2020-03-30 22:58:55</td>\n",
              "      <td>4.0</td>\n",
              "      <td>0.0</td>\n",
              "      <td>0.0</td>\n",
              "    </tr>\n",
              "    <tr>\n",
              "      <th>10356</th>\n",
              "      <td>10357</td>\n",
              "      <td>03/30/2020</td>\n",
              "      <td>Yunnan</td>\n",
              "      <td>Mainland China</td>\n",
              "      <td>2020-03-30 22:58:55</td>\n",
              "      <td>180.0</td>\n",
              "      <td>2.0</td>\n",
              "      <td>172.0</td>\n",
              "    </tr>\n",
              "    <tr>\n",
              "      <th>10357</th>\n",
              "      <td>10358</td>\n",
              "      <td>03/30/2020</td>\n",
              "      <td>Zhejiang</td>\n",
              "      <td>Mainland China</td>\n",
              "      <td>2020-03-30 22:58:55</td>\n",
              "      <td>1255.0</td>\n",
              "      <td>1.0</td>\n",
              "      <td>1225.0</td>\n",
              "    </tr>\n",
              "  </tbody>\n",
              "</table>\n",
              "</div>"
            ],
            "text/plain": [
              "         SNo ObservationDate Province/State  ... Confirmed Deaths  Recovered\n",
              "10353  10354      03/30/2020        Wyoming  ...      94.0    0.0        0.0\n",
              "10354  10355      03/30/2020       Xinjiang  ...      76.0    3.0       73.0\n",
              "10355  10356      03/30/2020          Yukon  ...       4.0    0.0        0.0\n",
              "10356  10357      03/30/2020         Yunnan  ...     180.0    2.0      172.0\n",
              "10357  10358      03/30/2020       Zhejiang  ...    1255.0    1.0     1225.0\n",
              "\n",
              "[5 rows x 8 columns]"
            ]
          },
          "metadata": {
            "tags": []
          },
          "execution_count": 3
        }
      ]
    },
    {
      "cell_type": "code",
      "metadata": {
        "id": "s_PkwsVxa7M7",
        "colab_type": "code",
        "colab": {}
      },
      "source": [
        "covid.rename(columns={'ObservationDate':'Date','Country/Region':'Country'}, inplace=True)"
      ],
      "execution_count": 0,
      "outputs": []
    },
    {
      "cell_type": "code",
      "metadata": {
        "id": "x9TMcxlnbVBJ",
        "colab_type": "code",
        "outputId": "76cbbff6-55cd-4fd8-dd11-f939889df246",
        "colab": {
          "base_uri": "https://localhost:8080/",
          "height": 204
        }
      },
      "source": [
        "covid.tail()"
      ],
      "execution_count": 5,
      "outputs": [
        {
          "output_type": "execute_result",
          "data": {
            "text/html": [
              "<div>\n",
              "<style scoped>\n",
              "    .dataframe tbody tr th:only-of-type {\n",
              "        vertical-align: middle;\n",
              "    }\n",
              "\n",
              "    .dataframe tbody tr th {\n",
              "        vertical-align: top;\n",
              "    }\n",
              "\n",
              "    .dataframe thead th {\n",
              "        text-align: right;\n",
              "    }\n",
              "</style>\n",
              "<table border=\"1\" class=\"dataframe\">\n",
              "  <thead>\n",
              "    <tr style=\"text-align: right;\">\n",
              "      <th></th>\n",
              "      <th>SNo</th>\n",
              "      <th>Date</th>\n",
              "      <th>Province/State</th>\n",
              "      <th>Country</th>\n",
              "      <th>Last Update</th>\n",
              "      <th>Confirmed</th>\n",
              "      <th>Deaths</th>\n",
              "      <th>Recovered</th>\n",
              "    </tr>\n",
              "  </thead>\n",
              "  <tbody>\n",
              "    <tr>\n",
              "      <th>10353</th>\n",
              "      <td>10354</td>\n",
              "      <td>03/30/2020</td>\n",
              "      <td>Wyoming</td>\n",
              "      <td>US</td>\n",
              "      <td>2020-03-30 22:58:55</td>\n",
              "      <td>94.0</td>\n",
              "      <td>0.0</td>\n",
              "      <td>0.0</td>\n",
              "    </tr>\n",
              "    <tr>\n",
              "      <th>10354</th>\n",
              "      <td>10355</td>\n",
              "      <td>03/30/2020</td>\n",
              "      <td>Xinjiang</td>\n",
              "      <td>Mainland China</td>\n",
              "      <td>2020-03-30 22:58:55</td>\n",
              "      <td>76.0</td>\n",
              "      <td>3.0</td>\n",
              "      <td>73.0</td>\n",
              "    </tr>\n",
              "    <tr>\n",
              "      <th>10355</th>\n",
              "      <td>10356</td>\n",
              "      <td>03/30/2020</td>\n",
              "      <td>Yukon</td>\n",
              "      <td>Canada</td>\n",
              "      <td>2020-03-30 22:58:55</td>\n",
              "      <td>4.0</td>\n",
              "      <td>0.0</td>\n",
              "      <td>0.0</td>\n",
              "    </tr>\n",
              "    <tr>\n",
              "      <th>10356</th>\n",
              "      <td>10357</td>\n",
              "      <td>03/30/2020</td>\n",
              "      <td>Yunnan</td>\n",
              "      <td>Mainland China</td>\n",
              "      <td>2020-03-30 22:58:55</td>\n",
              "      <td>180.0</td>\n",
              "      <td>2.0</td>\n",
              "      <td>172.0</td>\n",
              "    </tr>\n",
              "    <tr>\n",
              "      <th>10357</th>\n",
              "      <td>10358</td>\n",
              "      <td>03/30/2020</td>\n",
              "      <td>Zhejiang</td>\n",
              "      <td>Mainland China</td>\n",
              "      <td>2020-03-30 22:58:55</td>\n",
              "      <td>1255.0</td>\n",
              "      <td>1.0</td>\n",
              "      <td>1225.0</td>\n",
              "    </tr>\n",
              "  </tbody>\n",
              "</table>\n",
              "</div>"
            ],
            "text/plain": [
              "         SNo        Date Province/State  ... Confirmed Deaths  Recovered\n",
              "10353  10354  03/30/2020        Wyoming  ...      94.0    0.0        0.0\n",
              "10354  10355  03/30/2020       Xinjiang  ...      76.0    3.0       73.0\n",
              "10355  10356  03/30/2020          Yukon  ...       4.0    0.0        0.0\n",
              "10356  10357  03/30/2020         Yunnan  ...     180.0    2.0      172.0\n",
              "10357  10358  03/30/2020       Zhejiang  ...    1255.0    1.0     1225.0\n",
              "\n",
              "[5 rows x 8 columns]"
            ]
          },
          "metadata": {
            "tags": []
          },
          "execution_count": 5
        }
      ]
    },
    {
      "cell_type": "markdown",
      "metadata": {
        "id": "pnNTOb4EHOI2",
        "colab_type": "text"
      },
      "source": [
        "### AGRUPANDO POR DATA"
      ]
    },
    {
      "cell_type": "code",
      "metadata": {
        "id": "PTdLOBrv5Iwn",
        "colab_type": "code",
        "outputId": "28f4b505-cb54-480e-83cd-63b1446c13a6",
        "colab": {
          "base_uri": "https://localhost:8080/",
          "height": 204
        }
      },
      "source": [
        "mortes = covid.groupby('Date').sum()['Deaths'].reset_index()\n",
        "mortes.tail()"
      ],
      "execution_count": 6,
      "outputs": [
        {
          "output_type": "execute_result",
          "data": {
            "text/html": [
              "<div>\n",
              "<style scoped>\n",
              "    .dataframe tbody tr th:only-of-type {\n",
              "        vertical-align: middle;\n",
              "    }\n",
              "\n",
              "    .dataframe tbody tr th {\n",
              "        vertical-align: top;\n",
              "    }\n",
              "\n",
              "    .dataframe thead th {\n",
              "        text-align: right;\n",
              "    }\n",
              "</style>\n",
              "<table border=\"1\" class=\"dataframe\">\n",
              "  <thead>\n",
              "    <tr style=\"text-align: right;\">\n",
              "      <th></th>\n",
              "      <th>Date</th>\n",
              "      <th>Deaths</th>\n",
              "    </tr>\n",
              "  </thead>\n",
              "  <tbody>\n",
              "    <tr>\n",
              "      <th>64</th>\n",
              "      <td>03/26/2020</td>\n",
              "      <td>23970.0</td>\n",
              "    </tr>\n",
              "    <tr>\n",
              "      <th>65</th>\n",
              "      <td>03/27/2020</td>\n",
              "      <td>27198.0</td>\n",
              "    </tr>\n",
              "    <tr>\n",
              "      <th>66</th>\n",
              "      <td>03/28/2020</td>\n",
              "      <td>30652.0</td>\n",
              "    </tr>\n",
              "    <tr>\n",
              "      <th>67</th>\n",
              "      <td>03/29/2020</td>\n",
              "      <td>33925.0</td>\n",
              "    </tr>\n",
              "    <tr>\n",
              "      <th>68</th>\n",
              "      <td>03/30/2020</td>\n",
              "      <td>37582.0</td>\n",
              "    </tr>\n",
              "  </tbody>\n",
              "</table>\n",
              "</div>"
            ],
            "text/plain": [
              "          Date   Deaths\n",
              "64  03/26/2020  23970.0\n",
              "65  03/27/2020  27198.0\n",
              "66  03/28/2020  30652.0\n",
              "67  03/29/2020  33925.0\n",
              "68  03/30/2020  37582.0"
            ]
          },
          "metadata": {
            "tags": []
          },
          "execution_count": 6
        }
      ]
    },
    {
      "cell_type": "markdown",
      "metadata": {
        "id": "gcb_jpb68hDP",
        "colab_type": "text"
      },
      "source": [
        "## PLOTANDO AS MORTES"
      ]
    },
    {
      "cell_type": "code",
      "metadata": {
        "id": "2PiWCAZmTCoR",
        "colab_type": "code",
        "outputId": "8caa8813-39ae-4873-e5f3-9cd91d3600d6",
        "colab": {
          "base_uri": "https://localhost:8080/",
          "height": 282
        }
      },
      "source": [
        "mortes.plot()"
      ],
      "execution_count": 7,
      "outputs": [
        {
          "output_type": "execute_result",
          "data": {
            "text/plain": [
              "<matplotlib.axes._subplots.AxesSubplot at 0x7f5c14f2c2e8>"
            ]
          },
          "metadata": {
            "tags": []
          },
          "execution_count": 7
        },
        {
          "output_type": "display_data",
          "data": {
            "image/png": "[encoded data removed]",
            "text/plain": [
              "<Figure size 432x288 with 1 Axes>"
            ]
          },
          "metadata": {
            "tags": [],
            "needs_background": "light"
          }
        }
      ]
    },
    {
      "cell_type": "markdown",
      "metadata": {
        "id": "kzxpYvpleaE2",
        "colab_type": "text"
      },
      "source": [
        "![alt text](https://miro.medium.com/max/864/1*HgDtNHGhlgnVg61zf86ZMw.png)"
      ]
    },
    {
      "cell_type": "markdown",
      "metadata": {
        "id": "HeIoxg2kj6Dl",
        "colab_type": "text"
      },
      "source": [
        "# **Prophet**\n",
        "\n",
        "\n",
        "O Profeta segue o modelo da API Scikit Learn, onde você cria uma instância da classe Prophet, em seguida, chama os métodos \"fit\" e \"predict\".\n"
      ]
    },
    {
      "cell_type": "markdown",
      "metadata": {
        "id": "aYSRKH6Je8Kz",
        "colab_type": "text"
      },
      "source": [
        "O Prophet é construído com seu back-end em STAN, uma linguagem de programação probabilística. Isso permite que o Prophet tenha muitas das vantagens oferecidas pelas estatísticas bayesianas, incluindo sazonalidade, inclusão de conhecimento de domínio e intervalos de confiança para criar uma estimativa de risco baseada em dados."
      ]
    },
    {
      "cell_type": "markdown",
      "metadata": {
        "id": "XYcnuFZkTJ9b",
        "colab_type": "text"
      },
      "source": [
        "A entrada para o Prophet é flexível porque permite que um Dataframe do pandas possa ser usado como entrada de dados\n",
        "\n",
        "\n",
        "Referências:\n",
        "- https://facebook.github.io/prophet/\n",
        "- https://facebook.github.io/prophet/docs/\n",
        "- https://github.com/facebook/prophet\n",
        "\n",
        "\n"
      ]
    },
    {
      "cell_type": "markdown",
      "metadata": {
        "id": "euNdGCEx9JvT",
        "colab_type": "text"
      },
      "source": [
        "## Formato das colunas de dados: **ds** e **y**. \n",
        "\n",
        "A coluna **ds** (date) deve ter o formato esperado pelo Pandas, idealmente AAAA-MM-DD para uma data ou AAAA-MM-DD HH: MM: SS para timestamp. \n",
        "\n",
        "A coluna **y**  deve ser numérica e representa a medida que desejamos prever."
      ]
    },
    {
      "cell_type": "markdown",
      "metadata": {
        "id": "9QuAtCujTr7G",
        "colab_type": "text"
      },
      "source": [
        "CRIANDO AS COLUNAS \n",
        "\n",
        "\n",
        "*   ds\n",
        "*   y\n",
        "\n"
      ]
    },
    {
      "cell_type": "code",
      "metadata": {
        "id": "tCzzQuj6UPUZ",
        "colab_type": "code",
        "outputId": "d36d648a-6957-43ab-ae4b-c8350a9152a3",
        "colab": {
          "base_uri": "https://localhost:8080/",
          "height": 204
        }
      },
      "source": [
        "mortes.tail()"
      ],
      "execution_count": 8,
      "outputs": [
        {
          "output_type": "execute_result",
          "data": {
            "text/html": [
              "<div>\n",
              "<style scoped>\n",
              "    .dataframe tbody tr th:only-of-type {\n",
              "        vertical-align: middle;\n",
              "    }\n",
              "\n",
              "    .dataframe tbody tr th {\n",
              "        vertical-align: top;\n",
              "    }\n",
              "\n",
              "    .dataframe thead th {\n",
              "        text-align: right;\n",
              "    }\n",
              "</style>\n",
              "<table border=\"1\" class=\"dataframe\">\n",
              "  <thead>\n",
              "    <tr style=\"text-align: right;\">\n",
              "      <th></th>\n",
              "      <th>Date</th>\n",
              "      <th>Deaths</th>\n",
              "    </tr>\n",
              "  </thead>\n",
              "  <tbody>\n",
              "    <tr>\n",
              "      <th>64</th>\n",
              "      <td>03/26/2020</td>\n",
              "      <td>23970.0</td>\n",
              "    </tr>\n",
              "    <tr>\n",
              "      <th>65</th>\n",
              "      <td>03/27/2020</td>\n",
              "      <td>27198.0</td>\n",
              "    </tr>\n",
              "    <tr>\n",
              "      <th>66</th>\n",
              "      <td>03/28/2020</td>\n",
              "      <td>30652.0</td>\n",
              "    </tr>\n",
              "    <tr>\n",
              "      <th>67</th>\n",
              "      <td>03/29/2020</td>\n",
              "      <td>33925.0</td>\n",
              "    </tr>\n",
              "    <tr>\n",
              "      <th>68</th>\n",
              "      <td>03/30/2020</td>\n",
              "      <td>37582.0</td>\n",
              "    </tr>\n",
              "  </tbody>\n",
              "</table>\n",
              "</div>"
            ],
            "text/plain": [
              "          Date   Deaths\n",
              "64  03/26/2020  23970.0\n",
              "65  03/27/2020  27198.0\n",
              "66  03/28/2020  30652.0\n",
              "67  03/29/2020  33925.0\n",
              "68  03/30/2020  37582.0"
            ]
          },
          "metadata": {
            "tags": []
          },
          "execution_count": 8
        }
      ]
    },
    {
      "cell_type": "code",
      "metadata": {
        "id": "AV7KGVWtTz6X",
        "colab_type": "code",
        "outputId": "3db50bd3-4d28-4ef1-9958-49a869f4d8c7",
        "colab": {
          "base_uri": "https://localhost:8080/",
          "height": 204
        }
      },
      "source": [
        "mortes.columns = ['ds','y']\n",
        "mortes.tail()"
      ],
      "execution_count": 9,
      "outputs": [
        {
          "output_type": "execute_result",
          "data": {
            "text/html": [
              "<div>\n",
              "<style scoped>\n",
              "    .dataframe tbody tr th:only-of-type {\n",
              "        vertical-align: middle;\n",
              "    }\n",
              "\n",
              "    .dataframe tbody tr th {\n",
              "        vertical-align: top;\n",
              "    }\n",
              "\n",
              "    .dataframe thead th {\n",
              "        text-align: right;\n",
              "    }\n",
              "</style>\n",
              "<table border=\"1\" class=\"dataframe\">\n",
              "  <thead>\n",
              "    <tr style=\"text-align: right;\">\n",
              "      <th></th>\n",
              "      <th>ds</th>\n",
              "      <th>y</th>\n",
              "    </tr>\n",
              "  </thead>\n",
              "  <tbody>\n",
              "    <tr>\n",
              "      <th>64</th>\n",
              "      <td>03/26/2020</td>\n",
              "      <td>23970.0</td>\n",
              "    </tr>\n",
              "    <tr>\n",
              "      <th>65</th>\n",
              "      <td>03/27/2020</td>\n",
              "      <td>27198.0</td>\n",
              "    </tr>\n",
              "    <tr>\n",
              "      <th>66</th>\n",
              "      <td>03/28/2020</td>\n",
              "      <td>30652.0</td>\n",
              "    </tr>\n",
              "    <tr>\n",
              "      <th>67</th>\n",
              "      <td>03/29/2020</td>\n",
              "      <td>33925.0</td>\n",
              "    </tr>\n",
              "    <tr>\n",
              "      <th>68</th>\n",
              "      <td>03/30/2020</td>\n",
              "      <td>37582.0</td>\n",
              "    </tr>\n",
              "  </tbody>\n",
              "</table>\n",
              "</div>"
            ],
            "text/plain": [
              "            ds        y\n",
              "64  03/26/2020  23970.0\n",
              "65  03/27/2020  27198.0\n",
              "66  03/28/2020  30652.0\n",
              "67  03/29/2020  33925.0\n",
              "68  03/30/2020  37582.0"
            ]
          },
          "metadata": {
            "tags": []
          },
          "execution_count": 9
        }
      ]
    },
    {
      "cell_type": "code",
      "metadata": {
        "id": "Sam7g6-mUUnA",
        "colab_type": "code",
        "outputId": "17fbdd80-4105-4cdb-b799-2d2209126a90",
        "colab": {
          "base_uri": "https://localhost:8080/",
          "height": 204
        }
      },
      "source": [
        "mortes['ds'] = pd.to_datetime(mortes['ds'])\n",
        "mortes.tail()"
      ],
      "execution_count": 10,
      "outputs": [
        {
          "output_type": "execute_result",
          "data": {
            "text/html": [
              "<div>\n",
              "<style scoped>\n",
              "    .dataframe tbody tr th:only-of-type {\n",
              "        vertical-align: middle;\n",
              "    }\n",
              "\n",
              "    .dataframe tbody tr th {\n",
              "        vertical-align: top;\n",
              "    }\n",
              "\n",
              "    .dataframe thead th {\n",
              "        text-align: right;\n",
              "    }\n",
              "</style>\n",
              "<table border=\"1\" class=\"dataframe\">\n",
              "  <thead>\n",
              "    <tr style=\"text-align: right;\">\n",
              "      <th></th>\n",
              "      <th>ds</th>\n",
              "      <th>y</th>\n",
              "    </tr>\n",
              "  </thead>\n",
              "  <tbody>\n",
              "    <tr>\n",
              "      <th>64</th>\n",
              "      <td>2020-03-26</td>\n",
              "      <td>23970.0</td>\n",
              "    </tr>\n",
              "    <tr>\n",
              "      <th>65</th>\n",
              "      <td>2020-03-27</td>\n",
              "      <td>27198.0</td>\n",
              "    </tr>\n",
              "    <tr>\n",
              "      <th>66</th>\n",
              "      <td>2020-03-28</td>\n",
              "      <td>30652.0</td>\n",
              "    </tr>\n",
              "    <tr>\n",
              "      <th>67</th>\n",
              "      <td>2020-03-29</td>\n",
              "      <td>33925.0</td>\n",
              "    </tr>\n",
              "    <tr>\n",
              "      <th>68</th>\n",
              "      <td>2020-03-30</td>\n",
              "      <td>37582.0</td>\n",
              "    </tr>\n",
              "  </tbody>\n",
              "</table>\n",
              "</div>"
            ],
            "text/plain": [
              "           ds        y\n",
              "64 2020-03-26  23970.0\n",
              "65 2020-03-27  27198.0\n",
              "66 2020-03-28  30652.0\n",
              "67 2020-03-29  33925.0\n",
              "68 2020-03-30  37582.0"
            ]
          },
          "metadata": {
            "tags": []
          },
          "execution_count": 10
        }
      ]
    },
    {
      "cell_type": "markdown",
      "metadata": {
        "id": "TV0St64hkgRn",
        "colab_type": "text"
      },
      "source": [
        "## **Previsão de MORTES da COVID-19 no mundo**\n",
        "\n",
        "Vamos realizar uma previsão de uma semana (periods=30), com intervalos de 95%. "
      ]
    },
    {
      "cell_type": "markdown",
      "metadata": {
        "id": "Ms5TIlY2b42o",
        "colab_type": "text"
      },
      "source": [
        "# **Confiança**\n",
        "\n",
        "Nas Séries Temporais a tendencia muda o tempo todo. Isso é histórico. Por isso \n",
        "é impossível ter certeza, então faremos a coisa mais razoável possível e assumimos que o futuro sofrerá mudanças de tendência.\n",
        "\n",
        "Nesse caso, assumiremos um intervalo de confiança de 95%, ou seja admitimos um erro de 5%. \n"
      ]
    },
    {
      "cell_type": "code",
      "metadata": {
        "id": "GcdsVNSCgRGZ",
        "colab_type": "code",
        "colab": {}
      },
      "source": [
        "dias = 30"
      ],
      "execution_count": 0,
      "outputs": []
    },
    {
      "cell_type": "code",
      "metadata": {
        "id": "tXgChMT-k-i0",
        "colab_type": "code",
        "outputId": "79e11421-74c9-4fec-8fdb-6cf97f80b8da",
        "colab": {
          "base_uri": "https://localhost:8080/",
          "height": 131
        }
      },
      "source": [
        "m = Prophet(interval_width=0.95, growth=)\n",
        "m.fit(mortes)\n",
        "futuro = m.make_future_dataframe(periods=dias)\n",
        "futuro.tail(dias)"
      ],
      "execution_count": 12,
      "outputs": [
        {
          "output_type": "error",
          "ename": "SyntaxError",
          "evalue": "ignored",
          "traceback": [
            "\u001b[0;36m  File \u001b[0;32m\"<ipython-input-12-42e564283009>\"\u001b[0;36m, line \u001b[0;32m1\u001b[0m\n\u001b[0;31m    m = Prophet(interval_width=0.95, growth=)\u001b[0m\n\u001b[0m                                            ^\u001b[0m\n\u001b[0;31mSyntaxError\u001b[0m\u001b[0;31m:\u001b[0m invalid syntax\n"
          ]
        }
      ]
    },
    {
      "cell_type": "code",
      "metadata": {
        "id": "tjKbwYIF6T_k",
        "colab_type": "code",
        "colab": {}
      },
      "source": [
        "previsao = m.predict(futuro)\n",
        "previsao.tail(dias)"
      ],
      "execution_count": 0,
      "outputs": []
    },
    {
      "cell_type": "code",
      "metadata": {
        "id": "ghjDz5wTbP2g",
        "colab_type": "code",
        "colab": {}
      },
      "source": [
        "previsao[['ds', 'yhat_lower', 'yhat', 'yhat_upper']].tail(dias)"
      ],
      "execution_count": 0,
      "outputs": []
    },
    {
      "cell_type": "code",
      "metadata": {
        "id": "2GriFJcf7vN_",
        "colab_type": "code",
        "colab": {}
      },
      "source": [
        "confirmed_forecast_plot = m.plot(previsao)"
      ],
      "execution_count": 0,
      "outputs": []
    },
    {
      "cell_type": "code",
      "metadata": {
        "id": "OIo-zJIau3jX",
        "colab_type": "code",
        "colab": {}
      },
      "source": [
        ""
      ],
      "execution_count": 0,
      "outputs": []
    }
  ]
}